{
  "nbformat": 4,
  "nbformat_minor": 0,
  "metadata": {
    "colab": {
      "name": "6.2 - Actividad - Regresión Lineal - Simple.ipynb",
      "provenance": [],
      "collapsed_sections": []
    },
    "kernelspec": {
      "display_name": "Python 3",
      "language": "python",
      "name": "python3"
    },
    "language_info": {
      "codemirror_mode": {
        "name": "ipython",
        "version": 3
      },
      "file_extension": ".py",
      "mimetype": "text/x-python",
      "name": "python",
      "nbconvert_exporter": "python",
      "pygments_lexer": "ipython3",
      "version": "3.8.5"
    }
  },
  "cells": [
    {
      "cell_type": "markdown",
      "metadata": {
        "id": "NAGZIGX35a8I"
      },
      "source": [
        "# Actividad\n",
        "\n",
        "- **Nombre**: \n",
        "- **Matrícula**: \n",
        "\n",
        "# Entregar \n",
        "Archivo PDF de la actividad y la liga de la actividad en su repostitorio.\n",
        "\n",
        "# Nota: \n",
        "Todas las tareas entregadas fuera de la fecha limite se califican sobre 50 de los 100 puntos posibles.\n"
      ]
    },
    {
      "cell_type": "markdown",
      "metadata": {
        "id": "A6u_Q2Jwxn7Q"
      },
      "source": [
        "**Presion Arterial**"
      ]
    },
    {
      "cell_type": "markdown",
      "metadata": {
        "id": "aZ8qy6Ir5c8X"
      },
      "source": [
        "1. Carga los datos del archivo **presion.csv**"
      ]
    },
    {
      "cell_type": "code",
      "metadata": {
        "id": "ahNyt07-5ijr"
      },
      "source": [
        ""
      ],
      "execution_count": null,
      "outputs": []
    },
    {
      "cell_type": "markdown",
      "metadata": {
        "id": "J8x9l3sd5jYI"
      },
      "source": [
        "2. Gráfica la información en el eje de las x la edad  y en el eje y la presión\n"
      ]
    },
    {
      "cell_type": "code",
      "metadata": {
        "id": "qCbTiXd45qr0"
      },
      "source": [
        ""
      ],
      "execution_count": null,
      "outputs": []
    },
    {
      "cell_type": "markdown",
      "metadata": {
        "id": "Ha4fEpQ_5roa"
      },
      "source": [
        "3. Genera una regresión logistica para obtener una aproximación de la ecuación \n",
        "$$\n",
        "y = ax + b\n",
        "$$\n",
        "donde $ a $ se conoce comúnmente como * pendiente *, y $ b $ se conoce comúnmente como * intersección *.\n",
        "\n",
        "¿Cuál es el valor de a y cuál es el valor de b?"
      ]
    },
    {
      "cell_type": "code",
      "metadata": {
        "id": "BIcuqKya6zHY"
      },
      "source": [
        ""
      ],
      "execution_count": null,
      "outputs": []
    },
    {
      "cell_type": "markdown",
      "metadata": {
        "id": "OGwecRAP6zSc"
      },
      "source": [
        "4. Gráfica los datos reales vs modelo obtenido. \n",
        "\n",
        "Se debe visualizar los datos reales ( azules) \n",
        "Recta del modelo ( negra) \n",
        "Distancias ( verde ) "
      ]
    },
    {
      "cell_type": "code",
      "metadata": {
        "id": "hhStTwBE64m_"
      },
      "source": [
        ""
      ],
      "execution_count": null,
      "outputs": []
    },
    {
      "cell_type": "markdown",
      "metadata": {
        "id": "oZhvlIU57ECO"
      },
      "source": [
        "4. ¿Cuál es la presión arterial esperada para una persona de 76 años?\n",
        "\n",
        "Genera una función que calcule lo anterior"
      ]
    },
    {
      "cell_type": "code",
      "metadata": {
        "id": "AAorqUTv7LjX"
      },
      "source": [
        "edad_calcular=\n",
        "\n",
        "def presion(edad)\n",
        "  return \n",
        "\n",
        "presion(edad_calcular)"
      ],
      "execution_count": null,
      "outputs": []
    },
    {
      "cell_type": "markdown",
      "metadata": {
        "id": "QpeT5QCaxtMi"
      },
      "source": [
        "**Ventas de mi negocio**\n",
        "\n",
        "Nuestro objetivo será contruir un modelo que prediga las ventas del producto dependiendo de cuánto presupuesto se gaste en cada medio."
      ]
    },
    {
      "cell_type": "markdown",
      "metadata": {
        "id": "erS5zKSGx9SS"
      },
      "source": [
        "1. Carga los datos del archivo AdvmiNegocio.csv"
      ]
    },
    {
      "cell_type": "code",
      "metadata": {
        "id": "waoWhXhsyTIW"
      },
      "source": [
        ""
      ],
      "execution_count": null,
      "outputs": []
    },
    {
      "cell_type": "markdown",
      "metadata": {
        "id": "KQYRlwotyTXh"
      },
      "source": [
        "2. Generar una grafica para visuaizar  cómo se relaciona cada columna de presupuesto contra las ventas. De mi negocio. ( Redes,Youtube,TV)\n"
      ]
    },
    {
      "cell_type": "code",
      "metadata": {
        "id": "3x5005GpygO5"
      },
      "source": [
        ""
      ],
      "execution_count": null,
      "outputs": []
    },
    {
      "cell_type": "markdown",
      "metadata": {
        "id": "rrREuedNygXw"
      },
      "source": [
        "3. ¿ Qué conclusiones puedes obtener de las graficas anteriores?"
      ]
    },
    {
      "cell_type": "markdown",
      "metadata": {
        "id": "Ap42szXtyoiK"
      },
      "source": [
        "*Ingresa el texto aquí...*"
      ]
    },
    {
      "cell_type": "markdown",
      "metadata": {
        "id": "U09F1JeRyuIq"
      },
      "source": [
        "4. **Regresión lineal**. En su forma más simple, consiste en asumir que una variable $x$ y una variable $y$ presentan una relación lineal de la forma:\n",
        "\n",
        "$$ y \\approx \\beta_0 + \\beta_1 \\cdot x$$\n",
        "\n",
        "¿Cuál es el valor de beta_0 , beta_1 y el Score  para Redes vs Ventas, TV vs Ventas y YouTube vs Ventas?"
      ]
    },
    {
      "cell_type": "markdown",
      "metadata": {
        "id": "er8aCv1l0FQK"
      },
      "source": [
        "5. ¿Cuál de los modelos es mejor de acuerdo al score ordenalos del mejor al peor?"
      ]
    },
    {
      "cell_type": "markdown",
      "metadata": {
        "id": "56LBN0_d0OAC"
      },
      "source": [
        "6.  **Regresión lineal múltiple**. Como ahora vamos a incluir más de una variable, el modelo se rescribe a :\n",
        "\n",
        "$$ \\hat{y} = \\hat{\\beta}_0 + \\hat{\\beta}_1 \\cdot x_1 + \\hat{\\beta}_2 \\cdot x_2 + \\hat{\\beta}_3\\cdot x_3 + \\ldots \\epsilon $$\n",
        "\n",
        "Elige  las diferentes combinaciones de variables. Ejemplo: Redes y Youtube vs Ventas \n",
        "\n",
        "¿Cuál es el valor de beta_0, betas_1 , beta_2 , el score y el score ajustado?\n",
        "\n"
      ]
    },
    {
      "cell_type": "markdown",
      "metadata": {
        "id": "C6bsCdYP1jd5"
      },
      "source": [
        "7.  ¿Cuál modelo es el que nos conviene elegir?"
      ]
    },
    {
      "cell_type": "markdown",
      "metadata": {
        "id": "iVZeSnvp1qUa"
      },
      "source": [
        "*Escibe aqui...*."
      ]
    }
  ]
}